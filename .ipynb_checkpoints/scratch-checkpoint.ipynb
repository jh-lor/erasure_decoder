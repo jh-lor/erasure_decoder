{
 "cells": [
  {
   "cell_type": "code",
   "execution_count": 22,
   "id": "ac6a4793",
   "metadata": {
    "ExecuteTime": {
     "end_time": "2021-12-02T19:01:51.966108Z",
     "start_time": "2021-12-02T19:01:51.953147Z"
    }
   },
   "outputs": [],
   "source": [
    "import pandas as pd\n",
    "import numpy as np\n",
    "from datetime import datetime"
   ]
  },
  {
   "cell_type": "code",
   "execution_count": 28,
   "id": "7990bf87",
   "metadata": {
    "ExecuteTime": {
     "end_time": "2021-12-02T19:03:24.772551Z",
     "start_time": "2021-12-02T19:03:24.762554Z"
    }
   },
   "outputs": [
    {
     "data": {
      "text/plain": [
       "'12022021_14:03:24'"
      ]
     },
     "execution_count": 28,
     "metadata": {},
     "output_type": "execute_result"
    }
   ],
   "source": [
    "datetime.now().strftime(\"%m%d%Y_%H:%M:%S\")"
   ]
  },
  {
   "cell_type": "code",
   "execution_count": 9,
   "id": "3afb732d",
   "metadata": {
    "ExecuteTime": {
     "end_time": "2021-12-02T18:48:46.455421Z",
     "start_time": "2021-12-02T18:48:46.450430Z"
    }
   },
   "outputs": [],
   "source": [
    "low = 0.1\n",
    "high = 0.2\n",
    "n_samples = 5\n",
    "error_range = np.linspace(low, high, n_samples)\n",
    "size_list = [5,7,9]"
   ]
  },
  {
   "cell_type": "code",
   "execution_count": 15,
   "id": "adec4430",
   "metadata": {
    "ExecuteTime": {
     "end_time": "2021-12-02T18:51:22.941523Z",
     "start_time": "2021-12-02T18:51:22.922069Z"
    }
   },
   "outputs": [],
   "source": [
    "index = pd.MultiIndex.from_product([size_list,error_range], names = [\"size\", \"physical_error_rate\"])\n",
    "df = pd.DataFrame(columns = [\"no_error\", \"undetected_error\", \"corrected_error\", \"uncorrected_error\"], index = index)"
   ]
  },
  {
   "cell_type": "code",
   "execution_count": 29,
   "id": "9b13714d",
   "metadata": {
    "ExecuteTime": {
     "end_time": "2021-12-02T19:12:38.461001Z",
     "start_time": "2021-12-02T19:12:38.446000Z"
    }
   },
   "outputs": [],
   "source": [
    "df.to_pickle(\"./df/test:.pkl\")"
   ]
  },
  {
   "cell_type": "code",
   "execution_count": 21,
   "id": "f894c833",
   "metadata": {
    "ExecuteTime": {
     "end_time": "2021-12-02T18:57:25.853130Z",
     "start_time": "2021-12-02T18:57:25.847136Z"
    }
   },
   "outputs": [
    {
     "data": {
      "text/plain": [
       "Float64Index([                0.1,               0.125, 0.15000000000000002,\n",
       "              0.17500000000000002,                 0.2,                 0.1,\n",
       "                            0.125, 0.15000000000000002, 0.17500000000000002,\n",
       "                              0.2,                 0.1,               0.125,\n",
       "              0.15000000000000002, 0.17500000000000002,                 0.2],\n",
       "             dtype='float64', name='physical_error_rate')"
      ]
     },
     "execution_count": 21,
     "metadata": {},
     "output_type": "execute_result"
    }
   ],
   "source": [
    "df.index.get_level_values(\"physical_error_rate\")"
   ]
  },
  {
   "cell_type": "code",
   "execution_count": 17,
   "id": "002b59cb",
   "metadata": {
    "ExecuteTime": {
     "end_time": "2021-12-02T18:51:31.656835Z",
     "start_time": "2021-12-02T18:51:31.629844Z"
    }
   },
   "outputs": [
    {
     "data": {
      "text/html": [
       "<div>\n",
       "<style scoped>\n",
       "    .dataframe tbody tr th:only-of-type {\n",
       "        vertical-align: middle;\n",
       "    }\n",
       "\n",
       "    .dataframe tbody tr th {\n",
       "        vertical-align: top;\n",
       "    }\n",
       "\n",
       "    .dataframe thead th {\n",
       "        text-align: right;\n",
       "    }\n",
       "</style>\n",
       "<table border=\"1\" class=\"dataframe\">\n",
       "  <thead>\n",
       "    <tr style=\"text-align: right;\">\n",
       "      <th></th>\n",
       "      <th></th>\n",
       "      <th>no_error</th>\n",
       "      <th>undetected_error</th>\n",
       "      <th>corrected_error</th>\n",
       "      <th>uncorrected_error</th>\n",
       "    </tr>\n",
       "    <tr>\n",
       "      <th>size</th>\n",
       "      <th>physical_error_rate</th>\n",
       "      <th></th>\n",
       "      <th></th>\n",
       "      <th></th>\n",
       "      <th></th>\n",
       "    </tr>\n",
       "  </thead>\n",
       "  <tbody>\n",
       "    <tr>\n",
       "      <th rowspan=\"5\" valign=\"top\">5</th>\n",
       "      <th>0.100</th>\n",
       "      <td>1</td>\n",
       "      <td>0</td>\n",
       "      <td>0</td>\n",
       "      <td>0</td>\n",
       "    </tr>\n",
       "    <tr>\n",
       "      <th>0.125</th>\n",
       "      <td>0</td>\n",
       "      <td>0</td>\n",
       "      <td>0</td>\n",
       "      <td>0</td>\n",
       "    </tr>\n",
       "    <tr>\n",
       "      <th>0.150</th>\n",
       "      <td>0</td>\n",
       "      <td>0</td>\n",
       "      <td>0</td>\n",
       "      <td>0</td>\n",
       "    </tr>\n",
       "    <tr>\n",
       "      <th>0.175</th>\n",
       "      <td>0</td>\n",
       "      <td>0</td>\n",
       "      <td>0</td>\n",
       "      <td>0</td>\n",
       "    </tr>\n",
       "    <tr>\n",
       "      <th>0.200</th>\n",
       "      <td>0</td>\n",
       "      <td>0</td>\n",
       "      <td>0</td>\n",
       "      <td>0</td>\n",
       "    </tr>\n",
       "    <tr>\n",
       "      <th rowspan=\"5\" valign=\"top\">7</th>\n",
       "      <th>0.100</th>\n",
       "      <td>0</td>\n",
       "      <td>0</td>\n",
       "      <td>0</td>\n",
       "      <td>0</td>\n",
       "    </tr>\n",
       "    <tr>\n",
       "      <th>0.125</th>\n",
       "      <td>0</td>\n",
       "      <td>0</td>\n",
       "      <td>0</td>\n",
       "      <td>0</td>\n",
       "    </tr>\n",
       "    <tr>\n",
       "      <th>0.150</th>\n",
       "      <td>0</td>\n",
       "      <td>0</td>\n",
       "      <td>0</td>\n",
       "      <td>0</td>\n",
       "    </tr>\n",
       "    <tr>\n",
       "      <th>0.175</th>\n",
       "      <td>0</td>\n",
       "      <td>0</td>\n",
       "      <td>0</td>\n",
       "      <td>0</td>\n",
       "    </tr>\n",
       "    <tr>\n",
       "      <th>0.200</th>\n",
       "      <td>0</td>\n",
       "      <td>0</td>\n",
       "      <td>0</td>\n",
       "      <td>0</td>\n",
       "    </tr>\n",
       "    <tr>\n",
       "      <th rowspan=\"5\" valign=\"top\">9</th>\n",
       "      <th>0.100</th>\n",
       "      <td>0</td>\n",
       "      <td>0</td>\n",
       "      <td>0</td>\n",
       "      <td>0</td>\n",
       "    </tr>\n",
       "    <tr>\n",
       "      <th>0.125</th>\n",
       "      <td>0</td>\n",
       "      <td>0</td>\n",
       "      <td>0</td>\n",
       "      <td>0</td>\n",
       "    </tr>\n",
       "    <tr>\n",
       "      <th>0.150</th>\n",
       "      <td>0</td>\n",
       "      <td>0</td>\n",
       "      <td>0</td>\n",
       "      <td>0</td>\n",
       "    </tr>\n",
       "    <tr>\n",
       "      <th>0.175</th>\n",
       "      <td>0</td>\n",
       "      <td>0</td>\n",
       "      <td>0</td>\n",
       "      <td>0</td>\n",
       "    </tr>\n",
       "    <tr>\n",
       "      <th>0.200</th>\n",
       "      <td>0</td>\n",
       "      <td>0</td>\n",
       "      <td>0</td>\n",
       "      <td>0</td>\n",
       "    </tr>\n",
       "  </tbody>\n",
       "</table>\n",
       "</div>"
      ],
      "text/plain": [
       "                         no_error undetected_error corrected_error  \\\n",
       "size physical_error_rate                                             \n",
       "5    0.100                      1                0               0   \n",
       "     0.125                      0                0               0   \n",
       "     0.150                      0                0               0   \n",
       "     0.175                      0                0               0   \n",
       "     0.200                      0                0               0   \n",
       "7    0.100                      0                0               0   \n",
       "     0.125                      0                0               0   \n",
       "     0.150                      0                0               0   \n",
       "     0.175                      0                0               0   \n",
       "     0.200                      0                0               0   \n",
       "9    0.100                      0                0               0   \n",
       "     0.125                      0                0               0   \n",
       "     0.150                      0                0               0   \n",
       "     0.175                      0                0               0   \n",
       "     0.200                      0                0               0   \n",
       "\n",
       "                         uncorrected_error  \n",
       "size physical_error_rate                    \n",
       "5    0.100                               0  \n",
       "     0.125                               0  \n",
       "     0.150                               0  \n",
       "     0.175                               0  \n",
       "     0.200                               0  \n",
       "7    0.100                               0  \n",
       "     0.125                               0  \n",
       "     0.150                               0  \n",
       "     0.175                               0  \n",
       "     0.200                               0  \n",
       "9    0.100                               0  \n",
       "     0.125                               0  \n",
       "     0.150                               0  \n",
       "     0.175                               0  \n",
       "     0.200                               0  "
      ]
     },
     "execution_count": 17,
     "metadata": {},
     "output_type": "execute_result"
    }
   ],
   "source": [
    "df.loc[(5,0.1), \"no_error\"]+=1\n",
    "df"
   ]
  },
  {
   "cell_type": "code",
   "execution_count": 15,
   "id": "913764ce",
   "metadata": {},
   "outputs": [
    {
     "data": {
      "text/html": [
       "<div>\n",
       "<style scoped>\n",
       "    .dataframe tbody tr th:only-of-type {\n",
       "        vertical-align: middle;\n",
       "    }\n",
       "\n",
       "    .dataframe tbody tr th {\n",
       "        vertical-align: top;\n",
       "    }\n",
       "\n",
       "    .dataframe thead th {\n",
       "        text-align: right;\n",
       "    }\n",
       "</style>\n",
       "<table border=\"1\" class=\"dataframe\">\n",
       "  <thead>\n",
       "    <tr style=\"text-align: right;\">\n",
       "      <th></th>\n",
       "      <th>no_error</th>\n",
       "      <th>undetected_error</th>\n",
       "      <th>corrected_error</th>\n",
       "      <th>uncorrected_error</th>\n",
       "    </tr>\n",
       "    <tr>\n",
       "      <th>physical_error_rate</th>\n",
       "      <th></th>\n",
       "      <th></th>\n",
       "      <th></th>\n",
       "      <th></th>\n",
       "    </tr>\n",
       "  </thead>\n",
       "  <tbody>\n",
       "    <tr>\n",
       "      <th>0.100</th>\n",
       "      <td>0.0</td>\n",
       "      <td>0.0</td>\n",
       "      <td>0.0</td>\n",
       "      <td>0.0</td>\n",
       "    </tr>\n",
       "    <tr>\n",
       "      <th>0.125</th>\n",
       "      <td>0.0</td>\n",
       "      <td>0.0</td>\n",
       "      <td>0.0</td>\n",
       "      <td>0.0</td>\n",
       "    </tr>\n",
       "    <tr>\n",
       "      <th>0.150</th>\n",
       "      <td>0.0</td>\n",
       "      <td>0.0</td>\n",
       "      <td>0.0</td>\n",
       "      <td>0.0</td>\n",
       "    </tr>\n",
       "    <tr>\n",
       "      <th>0.175</th>\n",
       "      <td>0.0</td>\n",
       "      <td>0.0</td>\n",
       "      <td>0.0</td>\n",
       "      <td>0.0</td>\n",
       "    </tr>\n",
       "    <tr>\n",
       "      <th>0.200</th>\n",
       "      <td>0.0</td>\n",
       "      <td>0.0</td>\n",
       "      <td>0.0</td>\n",
       "      <td>0.0</td>\n",
       "    </tr>\n",
       "  </tbody>\n",
       "</table>\n",
       "</div>"
      ],
      "text/plain": [
       "                     no_error  undetected_error  corrected_error  \\\n",
       "physical_error_rate                                                \n",
       "0.100                     0.0               0.0              0.0   \n",
       "0.125                     0.0               0.0              0.0   \n",
       "0.150                     0.0               0.0              0.0   \n",
       "0.175                     0.0               0.0              0.0   \n",
       "0.200                     0.0               0.0              0.0   \n",
       "\n",
       "                     uncorrected_error  \n",
       "physical_error_rate                     \n",
       "0.100                              0.0  \n",
       "0.125                              0.0  \n",
       "0.150                              0.0  \n",
       "0.175                              0.0  \n",
       "0.200                              0.0  "
      ]
     },
     "execution_count": 15,
     "metadata": {},
     "output_type": "execute_result"
    }
   ],
   "source": [
    "df = pd.DataFrame({\"physical_error_rate\": error_range, \"no_error\":np.zeros(n_samples), \"undetected_error\":np.zeros(n_samples), \"corrected_error\":np.zeros(n_samples), \"uncorrected_error\":np.zeros(n_samples)})\n",
    "df = df.set_index(\"physical_error_rate\")\n",
    "df"
   ]
  },
  {
   "cell_type": "code",
   "execution_count": 23,
   "id": "58bb4b09",
   "metadata": {},
   "outputs": [
    {
     "data": {
      "text/html": [
       "<div>\n",
       "<style scoped>\n",
       "    .dataframe tbody tr th:only-of-type {\n",
       "        vertical-align: middle;\n",
       "    }\n",
       "\n",
       "    .dataframe tbody tr th {\n",
       "        vertical-align: top;\n",
       "    }\n",
       "\n",
       "    .dataframe thead th {\n",
       "        text-align: right;\n",
       "    }\n",
       "</style>\n",
       "<table border=\"1\" class=\"dataframe\">\n",
       "  <thead>\n",
       "    <tr style=\"text-align: right;\">\n",
       "      <th></th>\n",
       "      <th>no_error</th>\n",
       "      <th>undetected_error</th>\n",
       "      <th>corrected_error</th>\n",
       "      <th>uncorrected_error</th>\n",
       "    </tr>\n",
       "    <tr>\n",
       "      <th>physical_error_rate</th>\n",
       "      <th></th>\n",
       "      <th></th>\n",
       "      <th></th>\n",
       "      <th></th>\n",
       "    </tr>\n",
       "  </thead>\n",
       "  <tbody>\n",
       "    <tr>\n",
       "      <th>0.100</th>\n",
       "      <td>3.0</td>\n",
       "      <td>0.0</td>\n",
       "      <td>0.0</td>\n",
       "      <td>0.0</td>\n",
       "    </tr>\n",
       "    <tr>\n",
       "      <th>0.125</th>\n",
       "      <td>0.0</td>\n",
       "      <td>0.0</td>\n",
       "      <td>0.0</td>\n",
       "      <td>0.0</td>\n",
       "    </tr>\n",
       "    <tr>\n",
       "      <th>0.150</th>\n",
       "      <td>0.0</td>\n",
       "      <td>0.0</td>\n",
       "      <td>0.0</td>\n",
       "      <td>0.0</td>\n",
       "    </tr>\n",
       "    <tr>\n",
       "      <th>0.175</th>\n",
       "      <td>0.0</td>\n",
       "      <td>0.0</td>\n",
       "      <td>0.0</td>\n",
       "      <td>0.0</td>\n",
       "    </tr>\n",
       "    <tr>\n",
       "      <th>0.200</th>\n",
       "      <td>0.0</td>\n",
       "      <td>0.0</td>\n",
       "      <td>0.0</td>\n",
       "      <td>0.0</td>\n",
       "    </tr>\n",
       "  </tbody>\n",
       "</table>\n",
       "</div>"
      ],
      "text/plain": [
       "                     no_error  undetected_error  corrected_error  \\\n",
       "physical_error_rate                                                \n",
       "0.100                     3.0               0.0              0.0   \n",
       "0.125                     0.0               0.0              0.0   \n",
       "0.150                     0.0               0.0              0.0   \n",
       "0.175                     0.0               0.0              0.0   \n",
       "0.200                     0.0               0.0              0.0   \n",
       "\n",
       "                     uncorrected_error  \n",
       "physical_error_rate                     \n",
       "0.100                              0.0  \n",
       "0.125                              0.0  \n",
       "0.150                              0.0  \n",
       "0.175                              0.0  \n",
       "0.200                              0.0  "
      ]
     },
     "execution_count": 23,
     "metadata": {},
     "output_type": "execute_result"
    }
   ],
   "source": [
    "df.loc[0.1, \"no_error\"] +=1\n",
    "df"
   ]
  },
  {
   "cell_type": "code",
   "execution_count": 18,
   "id": "3a9e5591",
   "metadata": {},
   "outputs": [],
   "source": [
    "from math import ceil, floor"
   ]
  },
  {
   "cell_type": "code",
   "execution_count": 27,
   "id": "f58d6c5f",
   "metadata": {},
   "outputs": [],
   "source": [
    "def get_data_qubits(size):\n",
    "    if size%2== 1:\n",
    "        return [(y, 2*k + y%2) for y in range(size) for k in range(size//2 + (y+1)%2)]\n",
    "    else:\n",
    "        return [(y, 2*k + y%2) for y in range(size) for k in range(size//2)]"
   ]
  },
  {
   "cell_type": "code",
   "execution_count": 28,
   "id": "8f5375c2",
   "metadata": {},
   "outputs": [
    {
     "name": "stdout",
     "output_type": "stream",
     "text": [
      "For 1 size:\n",
      "[(0, 0)]\n",
      "For 2 size:\n",
      "[(0, 0), (1, 1)]\n",
      "For 3 size:\n",
      "[(0, 0), (0, 2), (1, 1), (2, 0), (2, 2)]\n",
      "For 4 size:\n",
      "[(0, 0), (0, 2), (1, 1), (1, 3), (2, 0), (2, 2), (3, 1), (3, 3)]\n",
      "For 5 size:\n",
      "[(0, 0), (0, 2), (0, 4), (1, 1), (1, 3), (2, 0), (2, 2), (2, 4), (3, 1), (3, 3), (4, 0), (4, 2), (4, 4)]\n",
      "For 6 size:\n",
      "[(0, 0), (0, 2), (0, 4), (1, 1), (1, 3), (1, 5), (2, 0), (2, 2), (2, 4), (3, 1), (3, 3), (3, 5), (4, 0), (4, 2), (4, 4), (5, 1), (5, 3), (5, 5)]\n",
      "For 7 size:\n",
      "[(0, 0), (0, 2), (0, 4), (0, 6), (1, 1), (1, 3), (1, 5), (2, 0), (2, 2), (2, 4), (2, 6), (3, 1), (3, 3), (3, 5), (4, 0), (4, 2), (4, 4), (4, 6), (5, 1), (5, 3), (5, 5), (6, 0), (6, 2), (6, 4), (6, 6)]\n",
      "For 8 size:\n",
      "[(0, 0), (0, 2), (0, 4), (0, 6), (1, 1), (1, 3), (1, 5), (1, 7), (2, 0), (2, 2), (2, 4), (2, 6), (3, 1), (3, 3), (3, 5), (3, 7), (4, 0), (4, 2), (4, 4), (4, 6), (5, 1), (5, 3), (5, 5), (5, 7), (6, 0), (6, 2), (6, 4), (6, 6), (7, 1), (7, 3), (7, 5), (7, 7)]\n",
      "For 9 size:\n",
      "[(0, 0), (0, 2), (0, 4), (0, 6), (0, 8), (1, 1), (1, 3), (1, 5), (1, 7), (2, 0), (2, 2), (2, 4), (2, 6), (2, 8), (3, 1), (3, 3), (3, 5), (3, 7), (4, 0), (4, 2), (4, 4), (4, 6), (4, 8), (5, 1), (5, 3), (5, 5), (5, 7), (6, 0), (6, 2), (6, 4), (6, 6), (6, 8), (7, 1), (7, 3), (7, 5), (7, 7), (8, 0), (8, 2), (8, 4), (8, 6), (8, 8)]\n"
     ]
    }
   ],
   "source": [
    "for i in range(1, 10):\n",
    "    print(f\"For {i} size:\")\n",
    "    print(get_data_qubits(i))"
   ]
  },
  {
   "cell_type": "code",
   "execution_count": 30,
   "id": "32fa5ae3",
   "metadata": {},
   "outputs": [
    {
     "data": {
      "text/plain": [
       "0"
      ]
     },
     "execution_count": 30,
     "metadata": {},
     "output_type": "execute_result"
    }
   ],
   "source": [
    "test = 1\n",
    "test ^= 1\n",
    "test"
   ]
  },
  {
   "cell_type": "code",
   "execution_count": 7,
   "id": "8a2b5842",
   "metadata": {},
   "outputs": [
    {
     "data": {
      "text/plain": [
       "array([0.27573239, 0.50594352, 0.86742303, 0.53034787])"
      ]
     },
     "execution_count": 7,
     "metadata": {},
     "output_type": "execute_result"
    }
   ],
   "source": [
    "random = np.random.rand(2**2)\n",
    "apply_error = random[random < 0.1]\n",
    "random"
   ]
  }
 ],
 "metadata": {
  "kernelspec": {
   "display_name": "Python 3",
   "language": "python",
   "name": "python3"
  },
  "language_info": {
   "codemirror_mode": {
    "name": "ipython",
    "version": 3
   },
   "file_extension": ".py",
   "mimetype": "text/x-python",
   "name": "python",
   "nbconvert_exporter": "python",
   "pygments_lexer": "ipython3",
   "version": "3.8.8"
  },
  "latex_envs": {
   "LaTeX_envs_menu_present": true,
   "autoclose": false,
   "autocomplete": true,
   "bibliofile": "biblio.bib",
   "cite_by": "apalike",
   "current_citInitial": 1,
   "eqLabelWithNumbers": true,
   "eqNumInitial": 1,
   "hotkeys": {
    "equation": "Ctrl-E",
    "itemize": "Ctrl-I"
   },
   "labels_anchors": false,
   "latex_user_defs": false,
   "report_style_numbering": false,
   "user_envs_cfg": false
  }
 },
 "nbformat": 4,
 "nbformat_minor": 5
}
