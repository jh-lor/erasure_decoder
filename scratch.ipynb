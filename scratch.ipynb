{
 "cells": [
  {
   "cell_type": "code",
   "execution_count": 2,
   "id": "ac6a4793",
   "metadata": {},
   "outputs": [],
   "source": [
    "import pandas as pd\n",
    "import numpy as np"
   ]
  },
  {
   "cell_type": "code",
   "execution_count": 4,
   "id": "3afb732d",
   "metadata": {},
   "outputs": [],
   "source": [
    "low = 0.1\n",
    "high = 0.2\n",
    "n_samples = 5\n",
    "error_range = np.linspace(low, high, n_samples)"
   ]
  },
  {
   "cell_type": "code",
   "execution_count": 15,
   "id": "913764ce",
   "metadata": {},
   "outputs": [
    {
     "data": {
      "text/html": [
       "<div>\n",
       "<style scoped>\n",
       "    .dataframe tbody tr th:only-of-type {\n",
       "        vertical-align: middle;\n",
       "    }\n",
       "\n",
       "    .dataframe tbody tr th {\n",
       "        vertical-align: top;\n",
       "    }\n",
       "\n",
       "    .dataframe thead th {\n",
       "        text-align: right;\n",
       "    }\n",
       "</style>\n",
       "<table border=\"1\" class=\"dataframe\">\n",
       "  <thead>\n",
       "    <tr style=\"text-align: right;\">\n",
       "      <th></th>\n",
       "      <th>no_error</th>\n",
       "      <th>undetected_error</th>\n",
       "      <th>corrected_error</th>\n",
       "      <th>uncorrected_error</th>\n",
       "    </tr>\n",
       "    <tr>\n",
       "      <th>physical_error_rate</th>\n",
       "      <th></th>\n",
       "      <th></th>\n",
       "      <th></th>\n",
       "      <th></th>\n",
       "    </tr>\n",
       "  </thead>\n",
       "  <tbody>\n",
       "    <tr>\n",
       "      <th>0.100</th>\n",
       "      <td>0.0</td>\n",
       "      <td>0.0</td>\n",
       "      <td>0.0</td>\n",
       "      <td>0.0</td>\n",
       "    </tr>\n",
       "    <tr>\n",
       "      <th>0.125</th>\n",
       "      <td>0.0</td>\n",
       "      <td>0.0</td>\n",
       "      <td>0.0</td>\n",
       "      <td>0.0</td>\n",
       "    </tr>\n",
       "    <tr>\n",
       "      <th>0.150</th>\n",
       "      <td>0.0</td>\n",
       "      <td>0.0</td>\n",
       "      <td>0.0</td>\n",
       "      <td>0.0</td>\n",
       "    </tr>\n",
       "    <tr>\n",
       "      <th>0.175</th>\n",
       "      <td>0.0</td>\n",
       "      <td>0.0</td>\n",
       "      <td>0.0</td>\n",
       "      <td>0.0</td>\n",
       "    </tr>\n",
       "    <tr>\n",
       "      <th>0.200</th>\n",
       "      <td>0.0</td>\n",
       "      <td>0.0</td>\n",
       "      <td>0.0</td>\n",
       "      <td>0.0</td>\n",
       "    </tr>\n",
       "  </tbody>\n",
       "</table>\n",
       "</div>"
      ],
      "text/plain": [
       "                     no_error  undetected_error  corrected_error  \\\n",
       "physical_error_rate                                                \n",
       "0.100                     0.0               0.0              0.0   \n",
       "0.125                     0.0               0.0              0.0   \n",
       "0.150                     0.0               0.0              0.0   \n",
       "0.175                     0.0               0.0              0.0   \n",
       "0.200                     0.0               0.0              0.0   \n",
       "\n",
       "                     uncorrected_error  \n",
       "physical_error_rate                     \n",
       "0.100                              0.0  \n",
       "0.125                              0.0  \n",
       "0.150                              0.0  \n",
       "0.175                              0.0  \n",
       "0.200                              0.0  "
      ]
     },
     "execution_count": 15,
     "metadata": {},
     "output_type": "execute_result"
    }
   ],
   "source": [
    "df = pd.DataFrame({\"physical_error_rate\": error_range, \"no_error\":np.zeros(n_samples), \"undetected_error\":np.zeros(n_samples), \"corrected_error\":np.zeros(n_samples), \"uncorrected_error\":np.zeros(n_samples)})\n",
    "df = df.set_index(\"physical_error_rate\")\n",
    "df"
   ]
  },
  {
   "cell_type": "code",
   "execution_count": 23,
   "id": "58bb4b09",
   "metadata": {},
   "outputs": [
    {
     "data": {
      "text/html": [
       "<div>\n",
       "<style scoped>\n",
       "    .dataframe tbody tr th:only-of-type {\n",
       "        vertical-align: middle;\n",
       "    }\n",
       "\n",
       "    .dataframe tbody tr th {\n",
       "        vertical-align: top;\n",
       "    }\n",
       "\n",
       "    .dataframe thead th {\n",
       "        text-align: right;\n",
       "    }\n",
       "</style>\n",
       "<table border=\"1\" class=\"dataframe\">\n",
       "  <thead>\n",
       "    <tr style=\"text-align: right;\">\n",
       "      <th></th>\n",
       "      <th>no_error</th>\n",
       "      <th>undetected_error</th>\n",
       "      <th>corrected_error</th>\n",
       "      <th>uncorrected_error</th>\n",
       "    </tr>\n",
       "    <tr>\n",
       "      <th>physical_error_rate</th>\n",
       "      <th></th>\n",
       "      <th></th>\n",
       "      <th></th>\n",
       "      <th></th>\n",
       "    </tr>\n",
       "  </thead>\n",
       "  <tbody>\n",
       "    <tr>\n",
       "      <th>0.100</th>\n",
       "      <td>3.0</td>\n",
       "      <td>0.0</td>\n",
       "      <td>0.0</td>\n",
       "      <td>0.0</td>\n",
       "    </tr>\n",
       "    <tr>\n",
       "      <th>0.125</th>\n",
       "      <td>0.0</td>\n",
       "      <td>0.0</td>\n",
       "      <td>0.0</td>\n",
       "      <td>0.0</td>\n",
       "    </tr>\n",
       "    <tr>\n",
       "      <th>0.150</th>\n",
       "      <td>0.0</td>\n",
       "      <td>0.0</td>\n",
       "      <td>0.0</td>\n",
       "      <td>0.0</td>\n",
       "    </tr>\n",
       "    <tr>\n",
       "      <th>0.175</th>\n",
       "      <td>0.0</td>\n",
       "      <td>0.0</td>\n",
       "      <td>0.0</td>\n",
       "      <td>0.0</td>\n",
       "    </tr>\n",
       "    <tr>\n",
       "      <th>0.200</th>\n",
       "      <td>0.0</td>\n",
       "      <td>0.0</td>\n",
       "      <td>0.0</td>\n",
       "      <td>0.0</td>\n",
       "    </tr>\n",
       "  </tbody>\n",
       "</table>\n",
       "</div>"
      ],
      "text/plain": [
       "                     no_error  undetected_error  corrected_error  \\\n",
       "physical_error_rate                                                \n",
       "0.100                     3.0               0.0              0.0   \n",
       "0.125                     0.0               0.0              0.0   \n",
       "0.150                     0.0               0.0              0.0   \n",
       "0.175                     0.0               0.0              0.0   \n",
       "0.200                     0.0               0.0              0.0   \n",
       "\n",
       "                     uncorrected_error  \n",
       "physical_error_rate                     \n",
       "0.100                              0.0  \n",
       "0.125                              0.0  \n",
       "0.150                              0.0  \n",
       "0.175                              0.0  \n",
       "0.200                              0.0  "
      ]
     },
     "execution_count": 23,
     "metadata": {},
     "output_type": "execute_result"
    }
   ],
   "source": [
    "df.loc[0.1, \"no_error\"] +=1\n",
    "df"
   ]
  },
  {
   "cell_type": "code",
   "execution_count": 18,
   "id": "3a9e5591",
   "metadata": {},
   "outputs": [],
   "source": [
    "from math import ceil, floor"
   ]
  },
  {
   "cell_type": "code",
   "execution_count": 27,
   "id": "f58d6c5f",
   "metadata": {},
   "outputs": [],
   "source": [
    "def get_data_qubits(size):\n",
    "    if size%2== 1:\n",
    "        return [(y, 2*k + y%2) for y in range(size) for k in range(size//2 + (y+1)%2)]\n",
    "    else:\n",
    "        return [(y, 2*k + y%2) for y in range(size) for k in range(size//2)]"
   ]
  },
  {
   "cell_type": "code",
   "execution_count": 28,
   "id": "8f5375c2",
   "metadata": {},
   "outputs": [
    {
     "name": "stdout",
     "output_type": "stream",
     "text": [
      "For 1 size:\n",
      "[(0, 0)]\n",
      "For 2 size:\n",
      "[(0, 0), (1, 1)]\n",
      "For 3 size:\n",
      "[(0, 0), (0, 2), (1, 1), (2, 0), (2, 2)]\n",
      "For 4 size:\n",
      "[(0, 0), (0, 2), (1, 1), (1, 3), (2, 0), (2, 2), (3, 1), (3, 3)]\n",
      "For 5 size:\n",
      "[(0, 0), (0, 2), (0, 4), (1, 1), (1, 3), (2, 0), (2, 2), (2, 4), (3, 1), (3, 3), (4, 0), (4, 2), (4, 4)]\n",
      "For 6 size:\n",
      "[(0, 0), (0, 2), (0, 4), (1, 1), (1, 3), (1, 5), (2, 0), (2, 2), (2, 4), (3, 1), (3, 3), (3, 5), (4, 0), (4, 2), (4, 4), (5, 1), (5, 3), (5, 5)]\n",
      "For 7 size:\n",
      "[(0, 0), (0, 2), (0, 4), (0, 6), (1, 1), (1, 3), (1, 5), (2, 0), (2, 2), (2, 4), (2, 6), (3, 1), (3, 3), (3, 5), (4, 0), (4, 2), (4, 4), (4, 6), (5, 1), (5, 3), (5, 5), (6, 0), (6, 2), (6, 4), (6, 6)]\n",
      "For 8 size:\n",
      "[(0, 0), (0, 2), (0, 4), (0, 6), (1, 1), (1, 3), (1, 5), (1, 7), (2, 0), (2, 2), (2, 4), (2, 6), (3, 1), (3, 3), (3, 5), (3, 7), (4, 0), (4, 2), (4, 4), (4, 6), (5, 1), (5, 3), (5, 5), (5, 7), (6, 0), (6, 2), (6, 4), (6, 6), (7, 1), (7, 3), (7, 5), (7, 7)]\n",
      "For 9 size:\n",
      "[(0, 0), (0, 2), (0, 4), (0, 6), (0, 8), (1, 1), (1, 3), (1, 5), (1, 7), (2, 0), (2, 2), (2, 4), (2, 6), (2, 8), (3, 1), (3, 3), (3, 5), (3, 7), (4, 0), (4, 2), (4, 4), (4, 6), (4, 8), (5, 1), (5, 3), (5, 5), (5, 7), (6, 0), (6, 2), (6, 4), (6, 6), (6, 8), (7, 1), (7, 3), (7, 5), (7, 7), (8, 0), (8, 2), (8, 4), (8, 6), (8, 8)]\n"
     ]
    }
   ],
   "source": [
    "for i in range(1, 10):\n",
    "    print(f\"For {i} size:\")\n",
    "    print(get_data_qubits(i))"
   ]
  },
  {
   "cell_type": "code",
   "execution_count": 30,
   "id": "32fa5ae3",
   "metadata": {},
   "outputs": [
    {
     "data": {
      "text/plain": [
       "0"
      ]
     },
     "execution_count": 30,
     "metadata": {},
     "output_type": "execute_result"
    }
   ],
   "source": [
    "test = 1\n",
    "test ^= 1\n",
    "test"
   ]
  },
  {
   "cell_type": "code",
   "execution_count": 7,
   "id": "8a2b5842",
   "metadata": {},
   "outputs": [
    {
     "data": {
      "text/plain": [
       "array([0.27573239, 0.50594352, 0.86742303, 0.53034787])"
      ]
     },
     "execution_count": 7,
     "metadata": {},
     "output_type": "execute_result"
    }
   ],
   "source": [
    "random = np.random.rand(2**2)\n",
    "apply_error = random[random < 0.1]\n",
    "random"
   ]
  }
 ],
 "metadata": {
  "kernelspec": {
   "display_name": "Python 3",
   "language": "python",
   "name": "python3"
  },
  "language_info": {
   "codemirror_mode": {
    "name": "ipython",
    "version": 3
   },
   "file_extension": ".py",
   "mimetype": "text/x-python",
   "name": "python",
   "nbconvert_exporter": "python",
   "pygments_lexer": "ipython3",
   "version": "3.8.8"
  }
 },
 "nbformat": 4,
 "nbformat_minor": 5
}
